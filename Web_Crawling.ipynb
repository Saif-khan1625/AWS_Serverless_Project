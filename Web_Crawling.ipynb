{
  "nbformat": 4,
  "nbformat_minor": 0,
  "metadata": {
    "colab": {
      "name": "Web_Crawling.ipynb",
      "provenance": [],
      "authorship_tag": "ABX9TyPcbIH7IINmomLiGX3wiuTF",
      "include_colab_link": true
    },
    "kernelspec": {
      "name": "python3",
      "display_name": "Python 3"
    },
    "language_info": {
      "name": "python"
    }
  },
  "cells": [
    {
      "cell_type": "markdown",
      "metadata": {
        "id": "view-in-github",
        "colab_type": "text"
      },
      "source": [
        "<a href=\"https://colab.research.google.com/github/Saif-khan1625/AWS_Serverless_Project/blob/main/Web_Crawling.ipynb\" target=\"_parent\"><img src=\"https://colab.research.google.com/assets/colab-badge.svg\" alt=\"Open In Colab\"/></a>"
      ]
    },
    {
      "cell_type": "code",
      "metadata": {
        "id": "uxlYpmR440I3"
      },
      "source": [
        "from bs4 import BeautifulSoup\n",
        "import requests\n",
        "import csv\n",
        "import pandas as pd"
      ],
      "execution_count": 1,
      "outputs": []
    },
    {
      "cell_type": "code",
      "metadata": {
        "id": "ASO-HdbT44Jh"
      },
      "source": [
        "descriptions=[]\n",
        "processors=[]\n",
        "ram=[]\n",
        "os=[]\n",
        "storage=[]\n",
        "inches=[]\n",
        "warranty=[]\n",
        "prices=[]\n",
        "ratings=[]\n"
      ],
      "execution_count": 2,
      "outputs": []
    },
    {
      "cell_type": "code",
      "metadata": {
        "id": "b9drKScT5C--"
      },
      "source": [
        "pages = list(range(1,21))\n",
        "for page in pages:\n",
        "  req = requests.get(\"https://www.flipkart.com/search?q=laptops&as=on&as-show=on&otracker=AS_Query_TrendingAutoSuggest_4_0_na_na_na&otracker1=AS_Query_TrendingAutoSuggest_4_0_na_na_na&as-pos=4&as-type=TRENDING&suggestionId=laptops&requestId=facbadc6-4e7f-4c49-a390-9e1a1382589e&page={}\".format(page)).text\n",
        "  soup = BeautifulSoup(req,'html.parser')"
      ],
      "execution_count": 4,
      "outputs": []
    },
    {
      "cell_type": "code",
      "metadata": {
        "id": "5AlX62WG6X2w"
      },
      "source": [
        "desc = soup.find_all('div', class_='_4rR01T')\n",
        "for i in range(len(desc)):\n",
        "    descriptions.append(desc[i].text)\n",
        "    len(descriptions)\n",
        "\n",
        "commonclass = soup.find_all('li', class_='rgWa7D')\n",
        "for i in range(0,len(commonclass)):\n",
        "  p=commonclass[i].text\n",
        "  if(\"Core\" in p):\n",
        "     processors.append(p)\n",
        "  elif(\"RAM\" in p):\n",
        "      ram.append(p)\n",
        "  elif(\"HDD\" in p or \"SSD\" in p):\n",
        "      storage.append(p)\n",
        "  elif(\"Operating\" in p):\n",
        "      os.append(p)\n",
        "  elif(\"Display\" in p):\n",
        "      inches.append(p)\n",
        "  elif(\"Warranty\" in p):\n",
        "      warranty.append(p)\n",
        "  \n",
        "price = soup.find_all('div',class_=\"_30jeq3 _1_WHN1\")\n",
        "for i in range(len(price)):\n",
        "  prices.append(price[i].text)\n",
        "  len(prices)\n",
        "\n",
        "rating = soup.find_all('div',class_=\"_3LWZlK\")\n",
        "for i in range(len(rating)):\n",
        "  ratings.append(rating[i].text)\n",
        "  len(ratings)\n",
        "\n"
      ],
      "execution_count": 5,
      "outputs": []
    },
    {
      "cell_type": "code",
      "metadata": {
        "colab": {
          "base_uri": "https://localhost:8080/"
        },
        "id": "lDEoRfqG83Yv",
        "outputId": "ac58a8b9-2375-4879-eeee-7d1a434fa954"
      },
      "source": [
        "print(len(descriptions))\n",
        "print(len(processors))\n",
        "print(len(ram))\n",
        "print(len(os))\n",
        "print(len(storage))\n",
        "print(len(inches))\n",
        "print(len(warranty))\n",
        "print(len(prices))\n",
        "print(len(ratings))"
      ],
      "execution_count": 6,
      "outputs": [
        {
          "output_type": "stream",
          "name": "stdout",
          "text": [
            "24\n",
            "24\n",
            "24\n",
            "24\n",
            "24\n",
            "24\n",
            "23\n",
            "24\n",
            "27\n"
          ]
        }
      ]
    },
    {
      "cell_type": "code",
      "metadata": {
        "id": "jswwrUWo-FXm"
      },
      "source": [
        "df = {'Description':descriptions[23],'Processor':processors[23],'RAM':ram[23],'Operating System':os[slice(23)],'Storage':storage[slice(23)],'Display':inches[slice(23)],'Warranty':warranty[slice(23)],'Price':prices[slice(23)]}\n",
        "dataset = pd.DataFrame(data = df)"
      ],
      "execution_count": 7,
      "outputs": []
    },
    {
      "cell_type": "code",
      "metadata": {
        "colab": {
          "base_uri": "https://localhost:8080/",
          "height": 1000
        },
        "id": "cSXTvbdm_YQ2",
        "outputId": "716b144a-53c5-4db7-fca8-5e6fd6b3420f"
      },
      "source": [
        "dataset"
      ],
      "execution_count": 8,
      "outputs": [
        {
          "output_type": "execute_result",
          "data": {
            "text/html": [
              "<div>\n",
              "<style scoped>\n",
              "    .dataframe tbody tr th:only-of-type {\n",
              "        vertical-align: middle;\n",
              "    }\n",
              "\n",
              "    .dataframe tbody tr th {\n",
              "        vertical-align: top;\n",
              "    }\n",
              "\n",
              "    .dataframe thead th {\n",
              "        text-align: right;\n",
              "    }\n",
              "</style>\n",
              "<table border=\"1\" class=\"dataframe\">\n",
              "  <thead>\n",
              "    <tr style=\"text-align: right;\">\n",
              "      <th></th>\n",
              "      <th>Description</th>\n",
              "      <th>Processor</th>\n",
              "      <th>RAM</th>\n",
              "      <th>Operating System</th>\n",
              "      <th>Storage</th>\n",
              "      <th>Display</th>\n",
              "      <th>Warranty</th>\n",
              "      <th>Price</th>\n",
              "    </tr>\n",
              "  </thead>\n",
              "  <tbody>\n",
              "    <tr>\n",
              "      <th>0</th>\n",
              "      <td>Lenovo Core i5 10th Gen - (8 GB/256 GB SSD/Win...</td>\n",
              "      <td>Intel Core i5 Processor (10th Gen)</td>\n",
              "      <td>8 GB DDR4 RAM</td>\n",
              "      <td>64 bit Windows 10 Operating System</td>\n",
              "      <td>512 GB SSD</td>\n",
              "      <td>33.78 cm (13.3 inch) Display</td>\n",
              "      <td>1 Year Onsite Warranty</td>\n",
              "      <td>₹1,29,990</td>\n",
              "    </tr>\n",
              "    <tr>\n",
              "      <th>1</th>\n",
              "      <td>Lenovo Core i5 10th Gen - (8 GB/256 GB SSD/Win...</td>\n",
              "      <td>Intel Core i5 Processor (10th Gen)</td>\n",
              "      <td>8 GB DDR4 RAM</td>\n",
              "      <td>64 bit Windows 10 Operating System</td>\n",
              "      <td>1 TB HDD|512 GB SSD</td>\n",
              "      <td>39.62 cm (15.6 inch) Display</td>\n",
              "      <td>1 Year International Travelers Warranty (ITW)</td>\n",
              "      <td>₹1,04,990</td>\n",
              "    </tr>\n",
              "    <tr>\n",
              "      <th>2</th>\n",
              "      <td>Lenovo Core i5 10th Gen - (8 GB/256 GB SSD/Win...</td>\n",
              "      <td>Intel Core i5 Processor (10th Gen)</td>\n",
              "      <td>8 GB DDR4 RAM</td>\n",
              "      <td>Windows 10 Operating System</td>\n",
              "      <td>1 TB HDD|256 GB SSD</td>\n",
              "      <td>39.62 cm (15.6 inch) Display</td>\n",
              "      <td>1 Year On-Site Warranty</td>\n",
              "      <td>₹71,440</td>\n",
              "    </tr>\n",
              "    <tr>\n",
              "      <th>3</th>\n",
              "      <td>Lenovo Core i5 10th Gen - (8 GB/256 GB SSD/Win...</td>\n",
              "      <td>Intel Core i5 Processor (10th Gen)</td>\n",
              "      <td>8 GB DDR4 RAM</td>\n",
              "      <td>64 bit Windows 10 Operating System</td>\n",
              "      <td>1 TB HDD</td>\n",
              "      <td>39.62 cm (15.6 inch) Display</td>\n",
              "      <td>1 Year Onsite Warranty</td>\n",
              "      <td>₹55,990</td>\n",
              "    </tr>\n",
              "    <tr>\n",
              "      <th>4</th>\n",
              "      <td>Lenovo Core i5 10th Gen - (8 GB/256 GB SSD/Win...</td>\n",
              "      <td>Intel Core i5 Processor (10th Gen)</td>\n",
              "      <td>8 GB DDR4 RAM</td>\n",
              "      <td>64 bit Windows 10 Operating System</td>\n",
              "      <td>512 GB HDD|512 GB SSD</td>\n",
              "      <td>35.56 cm (14 Inch) Touchscreen Display</td>\n",
              "      <td>3 Year Premier Support Warranty</td>\n",
              "      <td>₹1,55,411</td>\n",
              "    </tr>\n",
              "    <tr>\n",
              "      <th>5</th>\n",
              "      <td>Lenovo Core i5 10th Gen - (8 GB/256 GB SSD/Win...</td>\n",
              "      <td>Intel Core i5 Processor (10th Gen)</td>\n",
              "      <td>8 GB DDR4 RAM</td>\n",
              "      <td>64 bit Windows 10 Operating System</td>\n",
              "      <td>1 TB HDD</td>\n",
              "      <td>39.62 cm (15.6 inch) Display</td>\n",
              "      <td>1 Year Onsite Warranty</td>\n",
              "      <td>₹69,890</td>\n",
              "    </tr>\n",
              "    <tr>\n",
              "      <th>6</th>\n",
              "      <td>Lenovo Core i5 10th Gen - (8 GB/256 GB SSD/Win...</td>\n",
              "      <td>Intel Core i5 Processor (10th Gen)</td>\n",
              "      <td>8 GB DDR4 RAM</td>\n",
              "      <td>64 bit Windows 10 Operating System</td>\n",
              "      <td>1 TB HDD|128 GB SSD</td>\n",
              "      <td>39.62 cm (15.6 inch) Display</td>\n",
              "      <td>1 Year Onsite Warranty</td>\n",
              "      <td>₹1,26,873</td>\n",
              "    </tr>\n",
              "    <tr>\n",
              "      <th>7</th>\n",
              "      <td>Lenovo Core i5 10th Gen - (8 GB/256 GB SSD/Win...</td>\n",
              "      <td>Intel Core i5 Processor (10th Gen)</td>\n",
              "      <td>8 GB DDR4 RAM</td>\n",
              "      <td>64 bit Windows 10 Operating System</td>\n",
              "      <td>1 TB SSD</td>\n",
              "      <td>39.62 cm (15.6 inch) Display</td>\n",
              "      <td>1 Year Onsite Warranty</td>\n",
              "      <td>₹1,21,990</td>\n",
              "    </tr>\n",
              "    <tr>\n",
              "      <th>8</th>\n",
              "      <td>Lenovo Core i5 10th Gen - (8 GB/256 GB SSD/Win...</td>\n",
              "      <td>Intel Core i5 Processor (10th Gen)</td>\n",
              "      <td>8 GB DDR4 RAM</td>\n",
              "      <td>64 bit Windows 10 Operating System</td>\n",
              "      <td>1 TB HDD|128 GB SSD</td>\n",
              "      <td>39.62 cm (15.6 inch) Display</td>\n",
              "      <td>1 Year Onsite Warranty</td>\n",
              "      <td>₹1,16,941</td>\n",
              "    </tr>\n",
              "    <tr>\n",
              "      <th>9</th>\n",
              "      <td>Lenovo Core i5 10th Gen - (8 GB/256 GB SSD/Win...</td>\n",
              "      <td>Intel Core i5 Processor (10th Gen)</td>\n",
              "      <td>8 GB DDR4 RAM</td>\n",
              "      <td>64 bit Windows 10 Operating System</td>\n",
              "      <td>512 GB SSD</td>\n",
              "      <td>33.78 cm (13.3 inch) Touchscreen Display</td>\n",
              "      <td>1 Year Onsite Warranty</td>\n",
              "      <td>₹1,26,000</td>\n",
              "    </tr>\n",
              "    <tr>\n",
              "      <th>10</th>\n",
              "      <td>Lenovo Core i5 10th Gen - (8 GB/256 GB SSD/Win...</td>\n",
              "      <td>Intel Core i5 Processor (10th Gen)</td>\n",
              "      <td>8 GB DDR4 RAM</td>\n",
              "      <td>64 bit Windows 10 Operating System</td>\n",
              "      <td>512 GB SSD</td>\n",
              "      <td>39.62 cm (15.6 inch) Display</td>\n",
              "      <td>1 Years Carry in Warranty</td>\n",
              "      <td>₹65,990</td>\n",
              "    </tr>\n",
              "    <tr>\n",
              "      <th>11</th>\n",
              "      <td>Lenovo Core i5 10th Gen - (8 GB/256 GB SSD/Win...</td>\n",
              "      <td>Intel Core i5 Processor (10th Gen)</td>\n",
              "      <td>8 GB DDR4 RAM</td>\n",
              "      <td>64 bit Windows 10 Operating System</td>\n",
              "      <td>512 GB SSD</td>\n",
              "      <td>39.62 cm (15.6 inch) Display</td>\n",
              "      <td>1 Year Onsite Warranty</td>\n",
              "      <td>₹64,990</td>\n",
              "    </tr>\n",
              "    <tr>\n",
              "      <th>12</th>\n",
              "      <td>Lenovo Core i5 10th Gen - (8 GB/256 GB SSD/Win...</td>\n",
              "      <td>Intel Core i5 Processor (10th Gen)</td>\n",
              "      <td>8 GB DDR4 RAM</td>\n",
              "      <td>64 bit Windows 10 Operating System</td>\n",
              "      <td>256 GB SSD</td>\n",
              "      <td>33.78 cm (13.3 inch) Touchscreen Display</td>\n",
              "      <td>1 Year Onsite Warranty</td>\n",
              "      <td>₹1,51,133</td>\n",
              "    </tr>\n",
              "    <tr>\n",
              "      <th>13</th>\n",
              "      <td>Lenovo Core i5 10th Gen - (8 GB/256 GB SSD/Win...</td>\n",
              "      <td>Intel Core i5 Processor (10th Gen)</td>\n",
              "      <td>8 GB DDR4 RAM</td>\n",
              "      <td>64 bit Windows 10 Operating System</td>\n",
              "      <td>512 GB SSD</td>\n",
              "      <td>35.56 cm (14 inch) Display</td>\n",
              "      <td>1 Year Onsite Warranty</td>\n",
              "      <td>₹68,990</td>\n",
              "    </tr>\n",
              "    <tr>\n",
              "      <th>14</th>\n",
              "      <td>Lenovo Core i5 10th Gen - (8 GB/256 GB SSD/Win...</td>\n",
              "      <td>Intel Core i5 Processor (10th Gen)</td>\n",
              "      <td>8 GB DDR4 RAM</td>\n",
              "      <td>64 bit Windows 10 Operating System</td>\n",
              "      <td>1 TB SSD</td>\n",
              "      <td>35.56 cm (14 inch) Display</td>\n",
              "      <td>1 Year Onsite Warranty</td>\n",
              "      <td>₹85,990</td>\n",
              "    </tr>\n",
              "    <tr>\n",
              "      <th>15</th>\n",
              "      <td>Lenovo Core i5 10th Gen - (8 GB/256 GB SSD/Win...</td>\n",
              "      <td>Intel Core i5 Processor (10th Gen)</td>\n",
              "      <td>8 GB DDR4 RAM</td>\n",
              "      <td>64 bit Windows 10 Operating System</td>\n",
              "      <td>512 GB SSD</td>\n",
              "      <td>39.62 cm (15.6 inch) Display</td>\n",
              "      <td>1 Year Onsite Warranty</td>\n",
              "      <td>₹60,990</td>\n",
              "    </tr>\n",
              "    <tr>\n",
              "      <th>16</th>\n",
              "      <td>Lenovo Core i5 10th Gen - (8 GB/256 GB SSD/Win...</td>\n",
              "      <td>Intel Core i5 Processor (10th Gen)</td>\n",
              "      <td>8 GB DDR4 RAM</td>\n",
              "      <td>64 bit Windows 10 Operating System</td>\n",
              "      <td>1 TB SSD</td>\n",
              "      <td>39.62 cm (15.6 inch) Display</td>\n",
              "      <td>1 Year Onsite Warranty</td>\n",
              "      <td>₹1,43,990</td>\n",
              "    </tr>\n",
              "    <tr>\n",
              "      <th>17</th>\n",
              "      <td>Lenovo Core i5 10th Gen - (8 GB/256 GB SSD/Win...</td>\n",
              "      <td>Intel Core i5 Processor (10th Gen)</td>\n",
              "      <td>8 GB DDR4 RAM</td>\n",
              "      <td>64 bit Windows 10 Operating System</td>\n",
              "      <td>1 TB SSD</td>\n",
              "      <td>39.62 cm (15.6 inch) Display</td>\n",
              "      <td>1 Year Onsite Warranty</td>\n",
              "      <td>₹89,990</td>\n",
              "    </tr>\n",
              "    <tr>\n",
              "      <th>18</th>\n",
              "      <td>Lenovo Core i5 10th Gen - (8 GB/256 GB SSD/Win...</td>\n",
              "      <td>Intel Core i5 Processor (10th Gen)</td>\n",
              "      <td>8 GB DDR4 RAM</td>\n",
              "      <td>Windows 10 Operating System</td>\n",
              "      <td>256 GB SSD</td>\n",
              "      <td>39.62 cm (15.6 inch) Display</td>\n",
              "      <td>3 Year Manufacturer Warranty on the Device and...</td>\n",
              "      <td>₹48,990</td>\n",
              "    </tr>\n",
              "    <tr>\n",
              "      <th>19</th>\n",
              "      <td>Lenovo Core i5 10th Gen - (8 GB/256 GB SSD/Win...</td>\n",
              "      <td>Intel Core i5 Processor (10th Gen)</td>\n",
              "      <td>8 GB DDR4 RAM</td>\n",
              "      <td>64 bit Windows 10 Operating System</td>\n",
              "      <td>1 TB SSD</td>\n",
              "      <td>35.56 cm (14 inch) Display</td>\n",
              "      <td>1 Year Domestic Brand Warranty on Device</td>\n",
              "      <td>₹1,65,990</td>\n",
              "    </tr>\n",
              "    <tr>\n",
              "      <th>20</th>\n",
              "      <td>Lenovo Core i5 10th Gen - (8 GB/256 GB SSD/Win...</td>\n",
              "      <td>Intel Core i5 Processor (10th Gen)</td>\n",
              "      <td>8 GB DDR4 RAM</td>\n",
              "      <td>64 bit Windows 10 Operating System</td>\n",
              "      <td>256 GB SSD</td>\n",
              "      <td>39.62 cm (15.6 inch) Display</td>\n",
              "      <td>2 Years Warranty</td>\n",
              "      <td>₹49,500</td>\n",
              "    </tr>\n",
              "    <tr>\n",
              "      <th>21</th>\n",
              "      <td>Lenovo Core i5 10th Gen - (8 GB/256 GB SSD/Win...</td>\n",
              "      <td>Intel Core i5 Processor (10th Gen)</td>\n",
              "      <td>8 GB DDR4 RAM</td>\n",
              "      <td>Windows 10 Operating System</td>\n",
              "      <td>256 GB SSD</td>\n",
              "      <td>39.62 cm (15.6 Inch) Display</td>\n",
              "      <td>1 Year Onsite Warranty</td>\n",
              "      <td>₹40,999</td>\n",
              "    </tr>\n",
              "    <tr>\n",
              "      <th>22</th>\n",
              "      <td>Lenovo Core i5 10th Gen - (8 GB/256 GB SSD/Win...</td>\n",
              "      <td>Intel Core i5 Processor (10th Gen)</td>\n",
              "      <td>8 GB DDR4 RAM</td>\n",
              "      <td>64 bit Windows 10 Operating System</td>\n",
              "      <td>512 GB SSD</td>\n",
              "      <td>34.29 cm (13.5 inch) Touchscreen Display</td>\n",
              "      <td>1 Year Onsite Warranty</td>\n",
              "      <td>₹1,19,999</td>\n",
              "    </tr>\n",
              "  </tbody>\n",
              "</table>\n",
              "</div>"
            ],
            "text/plain": [
              "                                          Description  ...      Price\n",
              "0   Lenovo Core i5 10th Gen - (8 GB/256 GB SSD/Win...  ...  ₹1,29,990\n",
              "1   Lenovo Core i5 10th Gen - (8 GB/256 GB SSD/Win...  ...  ₹1,04,990\n",
              "2   Lenovo Core i5 10th Gen - (8 GB/256 GB SSD/Win...  ...    ₹71,440\n",
              "3   Lenovo Core i5 10th Gen - (8 GB/256 GB SSD/Win...  ...    ₹55,990\n",
              "4   Lenovo Core i5 10th Gen - (8 GB/256 GB SSD/Win...  ...  ₹1,55,411\n",
              "5   Lenovo Core i5 10th Gen - (8 GB/256 GB SSD/Win...  ...    ₹69,890\n",
              "6   Lenovo Core i5 10th Gen - (8 GB/256 GB SSD/Win...  ...  ₹1,26,873\n",
              "7   Lenovo Core i5 10th Gen - (8 GB/256 GB SSD/Win...  ...  ₹1,21,990\n",
              "8   Lenovo Core i5 10th Gen - (8 GB/256 GB SSD/Win...  ...  ₹1,16,941\n",
              "9   Lenovo Core i5 10th Gen - (8 GB/256 GB SSD/Win...  ...  ₹1,26,000\n",
              "10  Lenovo Core i5 10th Gen - (8 GB/256 GB SSD/Win...  ...    ₹65,990\n",
              "11  Lenovo Core i5 10th Gen - (8 GB/256 GB SSD/Win...  ...    ₹64,990\n",
              "12  Lenovo Core i5 10th Gen - (8 GB/256 GB SSD/Win...  ...  ₹1,51,133\n",
              "13  Lenovo Core i5 10th Gen - (8 GB/256 GB SSD/Win...  ...    ₹68,990\n",
              "14  Lenovo Core i5 10th Gen - (8 GB/256 GB SSD/Win...  ...    ₹85,990\n",
              "15  Lenovo Core i5 10th Gen - (8 GB/256 GB SSD/Win...  ...    ₹60,990\n",
              "16  Lenovo Core i5 10th Gen - (8 GB/256 GB SSD/Win...  ...  ₹1,43,990\n",
              "17  Lenovo Core i5 10th Gen - (8 GB/256 GB SSD/Win...  ...    ₹89,990\n",
              "18  Lenovo Core i5 10th Gen - (8 GB/256 GB SSD/Win...  ...    ₹48,990\n",
              "19  Lenovo Core i5 10th Gen - (8 GB/256 GB SSD/Win...  ...  ₹1,65,990\n",
              "20  Lenovo Core i5 10th Gen - (8 GB/256 GB SSD/Win...  ...    ₹49,500\n",
              "21  Lenovo Core i5 10th Gen - (8 GB/256 GB SSD/Win...  ...    ₹40,999\n",
              "22  Lenovo Core i5 10th Gen - (8 GB/256 GB SSD/Win...  ...  ₹1,19,999\n",
              "\n",
              "[23 rows x 8 columns]"
            ]
          },
          "metadata": {},
          "execution_count": 8
        }
      ]
    },
    {
      "cell_type": "code",
      "metadata": {
        "id": "sZt80Do1_d3v"
      },
      "source": [
        "dataset.to_csv('laptops20.csv')"
      ],
      "execution_count": 13,
      "outputs": []
    },
    {
      "cell_type": "code",
      "metadata": {
        "colab": {
          "base_uri": "https://localhost:8080/"
        },
        "id": "WEO9nmXgAn6Q",
        "outputId": "aac46971-18c0-4838-8a1a-0c731a728f17"
      },
      "source": [
        "df = pd.read_csv('laptops20.csv')\n",
        "df.shape"
      ],
      "execution_count": 14,
      "outputs": [
        {
          "output_type": "execute_result",
          "data": {
            "text/plain": [
              "(23, 9)"
            ]
          },
          "metadata": {},
          "execution_count": 14
        }
      ]
    },
    {
      "cell_type": "code",
      "metadata": {
        "id": "oSbeNeYLBAhU"
      },
      "source": [
        "import sqlite3"
      ],
      "execution_count": 15,
      "outputs": []
    },
    {
      "cell_type": "code",
      "metadata": {
        "id": "HjJHhQ6yBDiC"
      },
      "source": [
        "con = sqlite3.connect('TestDB1.db')\n",
        "c = con.cursor()"
      ],
      "execution_count": 16,
      "outputs": []
    },
    {
      "cell_type": "code",
      "metadata": {
        "id": "kGJy_8pMCCCm"
      },
      "source": [
        "c.execute('CREATE TABLE IF NOT EXISTS laptop20 (Laptop_Id, Description, Processor, RAM, Operating System, Storage, Display, Warranty, Price)')\n",
        "con.commit()"
      ],
      "execution_count": 17,
      "outputs": []
    },
    {
      "cell_type": "code",
      "metadata": {
        "colab": {
          "base_uri": "https://localhost:8080/"
        },
        "id": "sSLnnAEnEp9W",
        "outputId": "7bcb934d-fc1d-4d15-d8d9-87fd00521ec6"
      },
      "source": [
        "df.to_sql('laptop20', con, if_exists='replace', index = False)"
      ],
      "execution_count": 19,
      "outputs": [
        {
          "output_type": "stream",
          "name": "stderr",
          "text": [
            "/usr/local/lib/python3.7/dist-packages/pandas/core/generic.py:2615: UserWarning: The spaces in these column names will not be changed. In pandas versions < 0.14, spaces were converted to underscores.\n",
            "  method=method,\n"
          ]
        }
      ]
    },
    {
      "cell_type": "code",
      "metadata": {
        "colab": {
          "base_uri": "https://localhost:8080/"
        },
        "id": "Qla5ukDoE2_-",
        "outputId": "286c287e-815a-4e78-d6d0-e9ab3b80da5a"
      },
      "source": [
        "c.execute('''SELECT * FROM laptop20''')"
      ],
      "execution_count": 20,
      "outputs": [
        {
          "output_type": "execute_result",
          "data": {
            "text/plain": [
              "<sqlite3.Cursor at 0x7fb475eb4730>"
            ]
          },
          "metadata": {},
          "execution_count": 20
        }
      ]
    },
    {
      "cell_type": "code",
      "metadata": {
        "colab": {
          "base_uri": "https://localhost:8080/"
        },
        "id": "KK5khU4wE9y1",
        "outputId": "c8da2c22-0454-49ec-9e0d-efcb5f5758a5"
      },
      "source": [
        "for row in c.fetchall():\n",
        "  print(row)"
      ],
      "execution_count": 21,
      "outputs": [
        {
          "output_type": "stream",
          "name": "stdout",
          "text": [
            "(0, 'Lenovo Core i5 10th Gen - (8 GB/256 GB SSD/Windows 10/NVIDIA GeForce GTX) 82AU004QIN Gaming Laptop', 'Intel Core i5 Processor (10th Gen)', '8 GB DDR4 RAM', '64 bit Windows 10 Operating System', '512 GB SSD', '33.78 cm (13.3 inch) Display', '1 Year Onsite Warranty', '₹1,29,990')\n",
            "(1, 'Lenovo Core i5 10th Gen - (8 GB/256 GB SSD/Windows 10/NVIDIA GeForce GTX) 82AU004QIN Gaming Laptop', 'Intel Core i5 Processor (10th Gen)', '8 GB DDR4 RAM', '64 bit Windows 10 Operating System', '1 TB HDD|512 GB SSD', '39.62 cm (15.6 inch) Display', '1 Year International Travelers Warranty (ITW)', '₹1,04,990')\n",
            "(2, 'Lenovo Core i5 10th Gen - (8 GB/256 GB SSD/Windows 10/NVIDIA GeForce GTX) 82AU004QIN Gaming Laptop', 'Intel Core i5 Processor (10th Gen)', '8 GB DDR4 RAM', 'Windows 10 Operating System', '1 TB HDD|256 GB SSD', '39.62 cm (15.6 inch) Display', '1 Year On-Site Warranty', '₹71,440')\n",
            "(3, 'Lenovo Core i5 10th Gen - (8 GB/256 GB SSD/Windows 10/NVIDIA GeForce GTX) 82AU004QIN Gaming Laptop', 'Intel Core i5 Processor (10th Gen)', '8 GB DDR4 RAM', '64 bit Windows 10 Operating System', '1 TB HDD', '39.62 cm (15.6 inch) Display', '1 Year Onsite Warranty', '₹55,990')\n",
            "(4, 'Lenovo Core i5 10th Gen - (8 GB/256 GB SSD/Windows 10/NVIDIA GeForce GTX) 82AU004QIN Gaming Laptop', 'Intel Core i5 Processor (10th Gen)', '8 GB DDR4 RAM', '64 bit Windows 10 Operating System', '512 GB HDD|512 GB SSD', '35.56 cm (14 Inch) Touchscreen Display', '3 Year Premier Support Warranty', '₹1,55,411')\n",
            "(5, 'Lenovo Core i5 10th Gen - (8 GB/256 GB SSD/Windows 10/NVIDIA GeForce GTX) 82AU004QIN Gaming Laptop', 'Intel Core i5 Processor (10th Gen)', '8 GB DDR4 RAM', '64 bit Windows 10 Operating System', '1 TB HDD', '39.62 cm (15.6 inch) Display', '1 Year Onsite Warranty', '₹69,890')\n",
            "(6, 'Lenovo Core i5 10th Gen - (8 GB/256 GB SSD/Windows 10/NVIDIA GeForce GTX) 82AU004QIN Gaming Laptop', 'Intel Core i5 Processor (10th Gen)', '8 GB DDR4 RAM', '64 bit Windows 10 Operating System', '1 TB HDD|128 GB SSD', '39.62 cm (15.6 inch) Display', '1 Year Onsite Warranty', '₹1,26,873')\n",
            "(7, 'Lenovo Core i5 10th Gen - (8 GB/256 GB SSD/Windows 10/NVIDIA GeForce GTX) 82AU004QIN Gaming Laptop', 'Intel Core i5 Processor (10th Gen)', '8 GB DDR4 RAM', '64 bit Windows 10 Operating System', '1 TB SSD', '39.62 cm (15.6 inch) Display', '1 Year Onsite Warranty', '₹1,21,990')\n",
            "(8, 'Lenovo Core i5 10th Gen - (8 GB/256 GB SSD/Windows 10/NVIDIA GeForce GTX) 82AU004QIN Gaming Laptop', 'Intel Core i5 Processor (10th Gen)', '8 GB DDR4 RAM', '64 bit Windows 10 Operating System', '1 TB HDD|128 GB SSD', '39.62 cm (15.6 inch) Display', '1 Year Onsite Warranty', '₹1,16,941')\n",
            "(9, 'Lenovo Core i5 10th Gen - (8 GB/256 GB SSD/Windows 10/NVIDIA GeForce GTX) 82AU004QIN Gaming Laptop', 'Intel Core i5 Processor (10th Gen)', '8 GB DDR4 RAM', '64 bit Windows 10 Operating System', '512 GB SSD', '33.78 cm (13.3 inch) Touchscreen Display', '1 Year Onsite Warranty', '₹1,26,000')\n",
            "(10, 'Lenovo Core i5 10th Gen - (8 GB/256 GB SSD/Windows 10/NVIDIA GeForce GTX) 82AU004QIN Gaming Laptop', 'Intel Core i5 Processor (10th Gen)', '8 GB DDR4 RAM', '64 bit Windows 10 Operating System', '512 GB SSD', '39.62 cm (15.6 inch) Display', '1 Years Carry in Warranty', '₹65,990')\n",
            "(11, 'Lenovo Core i5 10th Gen - (8 GB/256 GB SSD/Windows 10/NVIDIA GeForce GTX) 82AU004QIN Gaming Laptop', 'Intel Core i5 Processor (10th Gen)', '8 GB DDR4 RAM', '64 bit Windows 10 Operating System', '512 GB SSD', '39.62 cm (15.6 inch) Display', '1 Year Onsite Warranty', '₹64,990')\n",
            "(12, 'Lenovo Core i5 10th Gen - (8 GB/256 GB SSD/Windows 10/NVIDIA GeForce GTX) 82AU004QIN Gaming Laptop', 'Intel Core i5 Processor (10th Gen)', '8 GB DDR4 RAM', '64 bit Windows 10 Operating System', '256 GB SSD', '33.78 cm (13.3 inch) Touchscreen Display', '1 Year Onsite Warranty', '₹1,51,133')\n",
            "(13, 'Lenovo Core i5 10th Gen - (8 GB/256 GB SSD/Windows 10/NVIDIA GeForce GTX) 82AU004QIN Gaming Laptop', 'Intel Core i5 Processor (10th Gen)', '8 GB DDR4 RAM', '64 bit Windows 10 Operating System', '512 GB SSD', '35.56 cm (14 inch) Display', '1 Year Onsite Warranty', '₹68,990')\n",
            "(14, 'Lenovo Core i5 10th Gen - (8 GB/256 GB SSD/Windows 10/NVIDIA GeForce GTX) 82AU004QIN Gaming Laptop', 'Intel Core i5 Processor (10th Gen)', '8 GB DDR4 RAM', '64 bit Windows 10 Operating System', '1 TB SSD', '35.56 cm (14 inch) Display', '1 Year Onsite Warranty', '₹85,990')\n",
            "(15, 'Lenovo Core i5 10th Gen - (8 GB/256 GB SSD/Windows 10/NVIDIA GeForce GTX) 82AU004QIN Gaming Laptop', 'Intel Core i5 Processor (10th Gen)', '8 GB DDR4 RAM', '64 bit Windows 10 Operating System', '512 GB SSD', '39.62 cm (15.6 inch) Display', '1 Year Onsite Warranty', '₹60,990')\n",
            "(16, 'Lenovo Core i5 10th Gen - (8 GB/256 GB SSD/Windows 10/NVIDIA GeForce GTX) 82AU004QIN Gaming Laptop', 'Intel Core i5 Processor (10th Gen)', '8 GB DDR4 RAM', '64 bit Windows 10 Operating System', '1 TB SSD', '39.62 cm (15.6 inch) Display', '1 Year Onsite Warranty', '₹1,43,990')\n",
            "(17, 'Lenovo Core i5 10th Gen - (8 GB/256 GB SSD/Windows 10/NVIDIA GeForce GTX) 82AU004QIN Gaming Laptop', 'Intel Core i5 Processor (10th Gen)', '8 GB DDR4 RAM', '64 bit Windows 10 Operating System', '1 TB SSD', '39.62 cm (15.6 inch) Display', '1 Year Onsite Warranty', '₹89,990')\n",
            "(18, 'Lenovo Core i5 10th Gen - (8 GB/256 GB SSD/Windows 10/NVIDIA GeForce GTX) 82AU004QIN Gaming Laptop', 'Intel Core i5 Processor (10th Gen)', '8 GB DDR4 RAM', 'Windows 10 Operating System', '256 GB SSD', '39.62 cm (15.6 inch) Display', '3 Year Manufacturer Warranty on the Device and 6 Months Manufacturer Warranty on Included Accessories from the Date of Purchase', '₹48,990')\n",
            "(19, 'Lenovo Core i5 10th Gen - (8 GB/256 GB SSD/Windows 10/NVIDIA GeForce GTX) 82AU004QIN Gaming Laptop', 'Intel Core i5 Processor (10th Gen)', '8 GB DDR4 RAM', '64 bit Windows 10 Operating System', '1 TB SSD', '35.56 cm (14 inch) Display', '1 Year Domestic Brand Warranty on Device', '₹1,65,990')\n",
            "(20, 'Lenovo Core i5 10th Gen - (8 GB/256 GB SSD/Windows 10/NVIDIA GeForce GTX) 82AU004QIN Gaming Laptop', 'Intel Core i5 Processor (10th Gen)', '8 GB DDR4 RAM', '64 bit Windows 10 Operating System', '256 GB SSD', '39.62 cm (15.6 inch) Display', '2 Years Warranty', '₹49,500')\n",
            "(21, 'Lenovo Core i5 10th Gen - (8 GB/256 GB SSD/Windows 10/NVIDIA GeForce GTX) 82AU004QIN Gaming Laptop', 'Intel Core i5 Processor (10th Gen)', '8 GB DDR4 RAM', 'Windows 10 Operating System', '256 GB SSD', '39.62 cm (15.6 Inch) Display', '1 Year Onsite Warranty', '₹40,999')\n",
            "(22, 'Lenovo Core i5 10th Gen - (8 GB/256 GB SSD/Windows 10/NVIDIA GeForce GTX) 82AU004QIN Gaming Laptop', 'Intel Core i5 Processor (10th Gen)', '8 GB DDR4 RAM', '64 bit Windows 10 Operating System', '512 GB SSD', '34.29 cm (13.5 inch) Touchscreen Display', '1 Year Onsite Warranty', '₹1,19,999')\n"
          ]
        }
      ]
    },
    {
      "cell_type": "code",
      "metadata": {
        "colab": {
          "base_uri": "https://localhost:8080/"
        },
        "id": "HvFq8eZfFBYc",
        "outputId": "6786514c-22e9-4952-802c-b9e0ff04d7f4"
      },
      "source": [
        "c.execute(''' SELECT RAM, Display, Price FROM laptop20 limit 5''')"
      ],
      "execution_count": 22,
      "outputs": [
        {
          "output_type": "execute_result",
          "data": {
            "text/plain": [
              "<sqlite3.Cursor at 0x7fb475eb4730>"
            ]
          },
          "metadata": {},
          "execution_count": 22
        }
      ]
    },
    {
      "cell_type": "code",
      "metadata": {
        "colab": {
          "base_uri": "https://localhost:8080/"
        },
        "id": "LSNxuf1BFbax",
        "outputId": "c171fbfc-f8a8-4a56-83b8-27f1f4404ee7"
      },
      "source": [
        "for row in c.fetchall():\n",
        "  print(row)"
      ],
      "execution_count": 23,
      "outputs": [
        {
          "output_type": "stream",
          "name": "stdout",
          "text": [
            "('8 GB DDR4 RAM', '33.78 cm (13.3 inch) Display', '₹1,29,990')\n",
            "('8 GB DDR4 RAM', '39.62 cm (15.6 inch) Display', '₹1,04,990')\n",
            "('8 GB DDR4 RAM', '39.62 cm (15.6 inch) Display', '₹71,440')\n",
            "('8 GB DDR4 RAM', '39.62 cm (15.6 inch) Display', '₹55,990')\n",
            "('8 GB DDR4 RAM', '35.56 cm (14 Inch) Touchscreen Display', '₹1,55,411')\n"
          ]
        }
      ]
    }
  ]
}