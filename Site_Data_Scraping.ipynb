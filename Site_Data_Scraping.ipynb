{
  "nbformat": 4,
  "nbformat_minor": 0,
  "metadata": {
    "colab": {
      "name": "Site_Data_Scraping.ipynb",
      "provenance": [],
      "collapsed_sections": [],
      "authorship_tag": "ABX9TyPQOYFNuqRMlWmJwLtyZmF6",
      "include_colab_link": true
    },
    "kernelspec": {
      "name": "python3",
      "display_name": "Python 3"
    },
    "language_info": {
      "name": "python"
    }
  },
  "cells": [
    {
      "cell_type": "markdown",
      "metadata": {
        "id": "view-in-github",
        "colab_type": "text"
      },
      "source": [
        "<a href=\"https://colab.research.google.com/github/Saif-khan1625/AWS_Serverless_Project/blob/main/Site_Data_Scraping.ipynb\" target=\"_parent\"><img src=\"https://colab.research.google.com/assets/colab-badge.svg\" alt=\"Open In Colab\"/></a>"
      ]
    },
    {
      "cell_type": "code",
      "metadata": {
        "id": "tfaRijDpzEiC"
      },
      "source": [
        "from bs4 import BeautifulSoup\n",
        "import requests\n",
        "import csv\n",
        "import pandas as pd"
      ],
      "execution_count": 63,
      "outputs": []
    },
    {
      "cell_type": "code",
      "metadata": {
        "id": "_xfa2JPLzKF3"
      },
      "source": [
        "descriptions=[]\n",
        "processors=[]\n",
        "ram=[]\n",
        "storage=[]\n",
        "\n"
      ],
      "execution_count": 64,
      "outputs": []
    },
    {
      "cell_type": "code",
      "metadata": {
        "id": "YoDmE-Os0moE"
      },
      "source": [
        "pages=list(range(1,21))\n",
        "for page in pages:\n",
        "  req= requests.get(\"https://www.flipkart.com/search?q=laptops&otracker=search&otracker1=search&marketplace=FLIPKART&as-show=on&as=off&page={}\".format (page)).text\n",
        "  soup=BeautifulSoup(req,'html.parser')"
      ],
      "execution_count": 67,
      "outputs": []
    },
    {
      "cell_type": "code",
      "metadata": {
        "id": "TBguQN2j1k5w"
      },
      "source": [
        "desc = soup.find_all('div', class_='4rR01T')\n",
        "for i in range(len(desc)):\n",
        "    descriptions.append(desc[i].text)\n",
        "len(descriptions)\n",
        "\n",
        "commonclass = soup.find_all('li', class_='rgWa7D')\n",
        "for i in range(0,len(commonclass)):\n",
        "  p=commonclass[i].text\n",
        "  if(\"Core\" in p):\n",
        "     processors.append(p)\n",
        "  elif(\"RAM\" in p):\n",
        "      ram.append(p)\n",
        "  elif(\"SSD\" in p):\n",
        "      storage.append(p)\n",
        "  \n",
        "  "
      ],
      "execution_count": 96,
      "outputs": []
    },
    {
      "cell_type": "code",
      "metadata": {
        "colab": {
          "base_uri": "https://localhost:8080/"
        },
        "id": "b5wHeijUbqw3",
        "outputId": "da3f696b-5965-43c0-c3b7-4ee04248a6ef"
      },
      "source": [
        "print(len(descriptions))\n",
        "print(len(processors))\n",
        "print(len(ram))\n",
        "print(len(storage))"
      ],
      "execution_count": 97,
      "outputs": [
        {
          "output_type": "stream",
          "name": "stdout",
          "text": [
            "0\n",
            "48\n",
            "48\n",
            "40\n"
          ]
        }
      ]
    },
    {
      "cell_type": "code",
      "metadata": {
        "colab": {
          "base_uri": "https://localhost:8080/",
          "height": 129
        },
        "id": "vg96Qz2ZlLk3",
        "outputId": "f4bf73d9-1a1d-4325-f6a8-1c95e25b3bbe"
      },
      "source": [
        "df = {'Description':descriptions[0],'Processor':processors[24],'RAM':ram[24],'Storage':storage[20],\n",
        "      \n",
        "dataset = pd.DataFrame(data=df)\n",
        "\n"
      ],
      "execution_count": 103,
      "outputs": [
        {
          "output_type": "error",
          "ename": "SyntaxError",
          "evalue": "ignored",
          "traceback": [
            "\u001b[0;36m  File \u001b[0;32m\"<ipython-input-103-54efb5a264f3>\"\u001b[0;36m, line \u001b[0;32m3\u001b[0m\n\u001b[0;31m    dataset = pd.DataFrame(data=df)\u001b[0m\n\u001b[0m            ^\u001b[0m\n\u001b[0;31mSyntaxError\u001b[0m\u001b[0;31m:\u001b[0m invalid syntax\n"
          ]
        }
      ]
    },
    {
      "cell_type": "code",
      "metadata": {
        "colab": {
          "base_uri": "https://localhost:8080/",
          "height": 163
        },
        "id": "w4ei1G8Kxrsy",
        "outputId": "490d4bc4-d05a-4974-9ff7-be08ed83e4cf"
      },
      "source": [
        "dataset.to_csv('laptops.csv')\n"
      ],
      "execution_count": 102,
      "outputs": [
        {
          "output_type": "error",
          "ename": "NameError",
          "evalue": "ignored",
          "traceback": [
            "\u001b[0;31m---------------------------------------------------------------------------\u001b[0m",
            "\u001b[0;31mNameError\u001b[0m                                 Traceback (most recent call last)",
            "\u001b[0;32m<ipython-input-102-f08db6039a4d>\u001b[0m in \u001b[0;36m<module>\u001b[0;34m()\u001b[0m\n\u001b[0;32m----> 1\u001b[0;31m \u001b[0mdataset\u001b[0m\u001b[0;34m.\u001b[0m\u001b[0mto_csv\u001b[0m\u001b[0;34m(\u001b[0m\u001b[0;34m'laptops.csv'\u001b[0m\u001b[0;34m)\u001b[0m\u001b[0;34m\u001b[0m\u001b[0;34m\u001b[0m\u001b[0m\n\u001b[0m",
            "\u001b[0;31mNameError\u001b[0m: name 'dataset' is not defined"
          ]
        }
      ]
    },
    {
      "cell_type": "code",
      "metadata": {
        "id": "dIhOW5GoyV-g"
      },
      "source": [
        "df = pd.read_csv('laptops.csv')\n",
        "df.shape"
      ],
      "execution_count": null,
      "outputs": []
    }
  ]
}